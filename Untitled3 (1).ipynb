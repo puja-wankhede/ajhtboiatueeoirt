{
 "cells": [
  {
   "cell_type": "code",
   "execution_count": 1,
   "id": "62b1bb05",
   "metadata": {},
   "outputs": [
    {
     "name": "stdout",
     "output_type": "stream",
     "text": [
      "hello am pooja\n"
     ]
    }
   ],
   "source": [
    "print(\"hello am pooja\")"
   ]
  },
  {
   "cell_type": "markdown",
   "metadata": {},
   "source": []
  },
  {
   "cell_type": "code",
   "execution_count": null,
   "id": "cc6b17b3",
   "metadata": {},
   "outputs": [],
   "source": [
    "print(\"hello am pooja\")"
   ]
  },
  {
   "cell_type": "code",
   "execution_count": 3,
   "id": "829ec35b",
   "metadata": {},
   "outputs": [
    {
     "name": "stdout",
     "output_type": "stream",
     "text": [
      "hello am pooja\n"
     ]
    }
   ],
   "source": [
    "print(\"hello am pooja\")"
   ]
  },
  {
   "cell_type": "code",
   "execution_count": null,
   "id": "f042e980",
   "metadata": {},
   "outputs": [],
   "source": [
    "print(\"hello am pooja\")"
   ]
  },
  {
   "cell_type": "code",
   "execution_count": null,
   "id": "d80e85c2",
   "metadata": {},
   "outputs": [],
   "source": [
    "print(\"hello am pooja\")"
   ]
  },
  {
   "cell_type": "code",
   "execution_count": 2,
   "id": "7d53c41e",
   "metadata": {},
   "outputs": [
    {
     "name": "stdout",
     "output_type": "stream",
     "text": [
      "hello am pooja\n"
     ]
    }
   ],
   "source": [
    "print(\"hello am pooja\")"
   ]
  },
  {
   "cell_type": "code",
   "execution_count": null,
   "id": "c34a5fd0",
   "metadata": {},
   "outputs": [],
   "source": []
  },
  {
   "cell_type": "code",
   "execution_count": null,
   "id": "23e41e60",
   "metadata": {},
   "outputs": [],
   "source": []
  }
 ],
 "metadata": {
  "kernelspec": {
   "display_name": "Python 3",
   "language": "python",
   "name": "python3"
  },
  "language_info": {
   "codemirror_mode": {
    "name": "ipython",
    "version": 3
   },
   "file_extension": ".py",
   "mimetype": "text/x-python",
   "name": "python",
   "nbconvert_exporter": "python",
   "pygments_lexer": "ipython3",
   "version": "3.8.8"
  }
 },
 "nbformat": 4,
 "nbformat_minor": 5
}
